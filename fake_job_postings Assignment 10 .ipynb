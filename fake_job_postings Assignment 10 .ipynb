{
 "cells": [
  {
   "cell_type": "code",
   "execution_count": 1,
   "id": "4badfec4",
   "metadata": {},
   "outputs": [],
   "source": [
    "import pandas as pd\n",
    "import numpy as np\n",
    "import nltk\n",
    "import re\n",
    "from nltk.corpus import stopwords\n",
    "from sklearn.feature_extraction.text import CountVectorizer\n",
    "from sklearn.model_selection import train_test_split\n",
    "from sklearn.linear_model import LogisticRegression\n",
    "from sklearn.metrics import accuracy_score, precision_score, recall_score, f1_score\n",
    "from sklearn.impute import SimpleImputer\n",
    "from imblearn.over_sampling import RandomOverSampler"
   ]
  },
  {
   "cell_type": "code",
   "execution_count": 2,
   "id": "1a1ce4dc",
   "metadata": {},
   "outputs": [
    {
     "data": {
      "text/html": [
       "<div>\n",
       "<style scoped>\n",
       "    .dataframe tbody tr th:only-of-type {\n",
       "        vertical-align: middle;\n",
       "    }\n",
       "\n",
       "    .dataframe tbody tr th {\n",
       "        vertical-align: top;\n",
       "    }\n",
       "\n",
       "    .dataframe thead th {\n",
       "        text-align: right;\n",
       "    }\n",
       "</style>\n",
       "<table border=\"1\" class=\"dataframe\">\n",
       "  <thead>\n",
       "    <tr style=\"text-align: right;\">\n",
       "      <th></th>\n",
       "      <th>job_id</th>\n",
       "      <th>title</th>\n",
       "      <th>location</th>\n",
       "      <th>department</th>\n",
       "      <th>salary_range</th>\n",
       "      <th>company_profile</th>\n",
       "      <th>description</th>\n",
       "      <th>requirements</th>\n",
       "      <th>benefits</th>\n",
       "      <th>telecommuting</th>\n",
       "      <th>has_company_logo</th>\n",
       "      <th>has_questions</th>\n",
       "      <th>employment_type</th>\n",
       "      <th>required_experience</th>\n",
       "      <th>required_education</th>\n",
       "      <th>industry</th>\n",
       "      <th>function</th>\n",
       "      <th>fraudulent</th>\n",
       "    </tr>\n",
       "  </thead>\n",
       "  <tbody>\n",
       "    <tr>\n",
       "      <th>0</th>\n",
       "      <td>1</td>\n",
       "      <td>Marketing Intern</td>\n",
       "      <td>US, NY, New York</td>\n",
       "      <td>Marketing</td>\n",
       "      <td>NaN</td>\n",
       "      <td>We're Food52, and we've created a groundbreaki...</td>\n",
       "      <td>Food52, a fast-growing, James Beard Award-winn...</td>\n",
       "      <td>Experience with content management systems a m...</td>\n",
       "      <td>NaN</td>\n",
       "      <td>0</td>\n",
       "      <td>1</td>\n",
       "      <td>0</td>\n",
       "      <td>Other</td>\n",
       "      <td>Internship</td>\n",
       "      <td>NaN</td>\n",
       "      <td>NaN</td>\n",
       "      <td>Marketing</td>\n",
       "      <td>0</td>\n",
       "    </tr>\n",
       "    <tr>\n",
       "      <th>1</th>\n",
       "      <td>2</td>\n",
       "      <td>Customer Service - Cloud Video Production</td>\n",
       "      <td>NZ, , Auckland</td>\n",
       "      <td>Success</td>\n",
       "      <td>NaN</td>\n",
       "      <td>90 Seconds, the worlds Cloud Video Production ...</td>\n",
       "      <td>Organised - Focused - Vibrant - Awesome!Do you...</td>\n",
       "      <td>What we expect from you:Your key responsibilit...</td>\n",
       "      <td>What you will get from usThrough being part of...</td>\n",
       "      <td>0</td>\n",
       "      <td>1</td>\n",
       "      <td>0</td>\n",
       "      <td>Full-time</td>\n",
       "      <td>Not Applicable</td>\n",
       "      <td>NaN</td>\n",
       "      <td>Marketing and Advertising</td>\n",
       "      <td>Customer Service</td>\n",
       "      <td>0</td>\n",
       "    </tr>\n",
       "    <tr>\n",
       "      <th>2</th>\n",
       "      <td>3</td>\n",
       "      <td>Commissioning Machinery Assistant (CMA)</td>\n",
       "      <td>US, IA, Wever</td>\n",
       "      <td>NaN</td>\n",
       "      <td>NaN</td>\n",
       "      <td>Valor Services provides Workforce Solutions th...</td>\n",
       "      <td>Our client, located in Houston, is actively se...</td>\n",
       "      <td>Implement pre-commissioning and commissioning ...</td>\n",
       "      <td>NaN</td>\n",
       "      <td>0</td>\n",
       "      <td>1</td>\n",
       "      <td>0</td>\n",
       "      <td>NaN</td>\n",
       "      <td>NaN</td>\n",
       "      <td>NaN</td>\n",
       "      <td>NaN</td>\n",
       "      <td>NaN</td>\n",
       "      <td>0</td>\n",
       "    </tr>\n",
       "    <tr>\n",
       "      <th>3</th>\n",
       "      <td>4</td>\n",
       "      <td>Account Executive - Washington DC</td>\n",
       "      <td>US, DC, Washington</td>\n",
       "      <td>Sales</td>\n",
       "      <td>NaN</td>\n",
       "      <td>Our passion for improving quality of life thro...</td>\n",
       "      <td>THE COMPANY: ESRI – Environmental Systems Rese...</td>\n",
       "      <td>EDUCATION: Bachelor’s or Master’s in GIS, busi...</td>\n",
       "      <td>Our culture is anything but corporate—we have ...</td>\n",
       "      <td>0</td>\n",
       "      <td>1</td>\n",
       "      <td>0</td>\n",
       "      <td>Full-time</td>\n",
       "      <td>Mid-Senior level</td>\n",
       "      <td>Bachelor's Degree</td>\n",
       "      <td>Computer Software</td>\n",
       "      <td>Sales</td>\n",
       "      <td>0</td>\n",
       "    </tr>\n",
       "    <tr>\n",
       "      <th>4</th>\n",
       "      <td>5</td>\n",
       "      <td>Bill Review Manager</td>\n",
       "      <td>US, FL, Fort Worth</td>\n",
       "      <td>NaN</td>\n",
       "      <td>NaN</td>\n",
       "      <td>SpotSource Solutions LLC is a Global Human Cap...</td>\n",
       "      <td>JOB TITLE: Itemization Review ManagerLOCATION:...</td>\n",
       "      <td>QUALIFICATIONS:RN license in the State of Texa...</td>\n",
       "      <td>Full Benefits Offered</td>\n",
       "      <td>0</td>\n",
       "      <td>1</td>\n",
       "      <td>1</td>\n",
       "      <td>Full-time</td>\n",
       "      <td>Mid-Senior level</td>\n",
       "      <td>Bachelor's Degree</td>\n",
       "      <td>Hospital &amp; Health Care</td>\n",
       "      <td>Health Care Provider</td>\n",
       "      <td>0</td>\n",
       "    </tr>\n",
       "  </tbody>\n",
       "</table>\n",
       "</div>"
      ],
      "text/plain": [
       "   job_id                                      title            location  \\\n",
       "0       1                           Marketing Intern    US, NY, New York   \n",
       "1       2  Customer Service - Cloud Video Production      NZ, , Auckland   \n",
       "2       3    Commissioning Machinery Assistant (CMA)       US, IA, Wever   \n",
       "3       4          Account Executive - Washington DC  US, DC, Washington   \n",
       "4       5                        Bill Review Manager  US, FL, Fort Worth   \n",
       "\n",
       "  department salary_range                                    company_profile  \\\n",
       "0  Marketing          NaN  We're Food52, and we've created a groundbreaki...   \n",
       "1    Success          NaN  90 Seconds, the worlds Cloud Video Production ...   \n",
       "2        NaN          NaN  Valor Services provides Workforce Solutions th...   \n",
       "3      Sales          NaN  Our passion for improving quality of life thro...   \n",
       "4        NaN          NaN  SpotSource Solutions LLC is a Global Human Cap...   \n",
       "\n",
       "                                         description  \\\n",
       "0  Food52, a fast-growing, James Beard Award-winn...   \n",
       "1  Organised - Focused - Vibrant - Awesome!Do you...   \n",
       "2  Our client, located in Houston, is actively se...   \n",
       "3  THE COMPANY: ESRI – Environmental Systems Rese...   \n",
       "4  JOB TITLE: Itemization Review ManagerLOCATION:...   \n",
       "\n",
       "                                        requirements  \\\n",
       "0  Experience with content management systems a m...   \n",
       "1  What we expect from you:Your key responsibilit...   \n",
       "2  Implement pre-commissioning and commissioning ...   \n",
       "3  EDUCATION: Bachelor’s or Master’s in GIS, busi...   \n",
       "4  QUALIFICATIONS:RN license in the State of Texa...   \n",
       "\n",
       "                                            benefits  telecommuting  \\\n",
       "0                                                NaN              0   \n",
       "1  What you will get from usThrough being part of...              0   \n",
       "2                                                NaN              0   \n",
       "3  Our culture is anything but corporate—we have ...              0   \n",
       "4                              Full Benefits Offered              0   \n",
       "\n",
       "   has_company_logo  has_questions employment_type required_experience  \\\n",
       "0                 1              0           Other          Internship   \n",
       "1                 1              0       Full-time      Not Applicable   \n",
       "2                 1              0             NaN                 NaN   \n",
       "3                 1              0       Full-time    Mid-Senior level   \n",
       "4                 1              1       Full-time    Mid-Senior level   \n",
       "\n",
       "  required_education                   industry              function  \\\n",
       "0                NaN                        NaN             Marketing   \n",
       "1                NaN  Marketing and Advertising      Customer Service   \n",
       "2                NaN                        NaN                   NaN   \n",
       "3  Bachelor's Degree          Computer Software                 Sales   \n",
       "4  Bachelor's Degree     Hospital & Health Care  Health Care Provider   \n",
       "\n",
       "   fraudulent  \n",
       "0           0  \n",
       "1           0  \n",
       "2           0  \n",
       "3           0  \n",
       "4           0  "
      ]
     },
     "execution_count": 2,
     "metadata": {},
     "output_type": "execute_result"
    }
   ],
   "source": [
    "df = pd.read_csv(r'M:\\courses\\AI All\\Amit Machin Learning\\fake_job_postings.csv')\n",
    "df.head()"
   ]
  },
  {
   "cell_type": "code",
   "execution_count": 3,
   "id": "8b1e5f10",
   "metadata": {},
   "outputs": [],
   "source": [
    "df = df.drop_duplicates()"
   ]
  },
  {
   "cell_type": "code",
   "execution_count": 4,
   "id": "39e16d9b",
   "metadata": {},
   "outputs": [],
   "source": [
    "df = df.drop([\"job_id\", \"title\", \"location\", \"department\", \"salary_range\", \"description\", \"requirements\", \"benefits\", \"telecommuting\", \"has_company_logo\", \"has_questions\", \"employment_type\", \"required_experience\", \"required_education\"], axis=1)"
   ]
  },
  {
   "cell_type": "code",
   "execution_count": 5,
   "id": "6be8197a",
   "metadata": {},
   "outputs": [],
   "source": [
    "def clean_text(text):\n",
    "    text = str(text) # convert to string type\n",
    "    text = re.sub(r'\\W', ' ', text)\n",
    "    text = re.sub(r'\\d+', ' ', text)\n",
    "    text = text.lower()\n",
    "    return text"
   ]
  },
  {
   "cell_type": "code",
   "execution_count": 6,
   "id": "4cb7e0fc",
   "metadata": {},
   "outputs": [],
   "source": [
    "df['company_profile'] = df['company_profile'].apply(clean_text)\n",
    "df['industry'] = df['industry'].apply(clean_text)\n",
    "df['function'] = df['function'].apply(clean_text)"
   ]
  },
  {
   "cell_type": "code",
   "execution_count": 7,
   "id": "f106eff8",
   "metadata": {},
   "outputs": [
    {
     "name": "stdout",
     "output_type": "stream",
     "text": [
      "column is company_profile 3308\n",
      "column is industry 4903\n",
      "column is function 6455\n",
      "column is fraudulent 0\n"
     ]
    }
   ],
   "source": [
    "for col in df :\n",
    "    null = []\n",
    "    for i in range(len(df[col])) :\n",
    "        if str(df[col][i]) == 'nan':\n",
    "            null.append(1)\n",
    "    print(f'column is {col}',len(null))"
   ]
  },
  {
   "cell_type": "code",
   "execution_count": 8,
   "id": "5e24680f",
   "metadata": {},
   "outputs": [
    {
     "name": "stdout",
     "output_type": "stream",
     "text": [
      "number of null 0 in company_profile\n",
      "number of null 0 in company_profile\n",
      "################################################################################################################################################################################################################################################\n",
      "number of null 0 in industry\n",
      "number of null 0 in industry\n",
      "################################################################################################################################################################################################################################################\n",
      "number of null 0 in function\n",
      "number of null 0 in function\n",
      "################################################################################################################################################################################################################################################\n",
      "number of null 0 in fraudulent\n",
      "number of null 0 in fraudulent\n",
      "################################################################################################################################################################################################################################################\n"
     ]
    }
   ],
   "source": [
    "mode = SimpleImputer(missing_values=np.nan, strategy='most_frequent')\n",
    "median = SimpleImputer(missing_values=np.nan, strategy='median')\n",
    "for col in df.columns:\n",
    "    print('number of null {} in {}'.format(df[col].isna().sum(), col))\n",
    "    if df[col].dtype == 'object':\n",
    "        df[col] = mode.fit_transform(df[[col]])\n",
    "    else:\n",
    "        df[col] = median.fit_transform(df[[col]])\n",
    "    print('number of null {} in {}'.format(df[col].isna().sum(), col))\n",
    "    print('########' * 30)"
   ]
  },
  {
   "cell_type": "code",
   "execution_count": 9,
   "id": "98163df0",
   "metadata": {},
   "outputs": [],
   "source": [
    "vectorizer = CountVectorizer(stop_words=stopwords.words('english'))\n",
    "text_cols = ['company_profile', 'industry', 'function']\n",
    "text_data = vectorizer.fit_transform(df[text_cols].apply(lambda x: ' '.join(x), axis=1)).toarray()"
   ]
  },
  {
   "cell_type": "code",
   "execution_count": 10,
   "id": "bb13f69c",
   "metadata": {},
   "outputs": [],
   "source": [
    "num_cols = [c for c in df.columns if c not in text_cols + ['fraudulent']]\n",
    "num_data = df[num_cols].to_numpy()"
   ]
  },
  {
   "cell_type": "code",
   "execution_count": 11,
   "id": "b57b745a",
   "metadata": {},
   "outputs": [],
   "source": [
    "x = np.concatenate([text_data, num_data], axis=1)\n",
    "y = df['fraudulent']"
   ]
  },
  {
   "cell_type": "code",
   "execution_count": 12,
   "id": "2bb4274f",
   "metadata": {},
   "outputs": [],
   "source": [
    "oversample = RandomOverSampler(sampling_strategy='minority')\n",
    "x, y = oversample.fit_resample(x, y)"
   ]
  },
  {
   "cell_type": "code",
   "execution_count": 13,
   "id": "70fed54f",
   "metadata": {},
   "outputs": [
    {
     "data": {
      "text/plain": [
       "LogisticRegression(max_iter=1000)"
      ]
     },
     "execution_count": 13,
     "metadata": {},
     "output_type": "execute_result"
    }
   ],
   "source": [
    "x_train, x_test, y_train, y_test = train_test_split(x, y, test_size=0.2, random_state=42)\n",
    "lr = LogisticRegression(max_iter=1000)\n",
    "lr.fit(x_train, y_train)"
   ]
  },
  {
   "cell_type": "code",
   "execution_count": 14,
   "id": "b43622c8",
   "metadata": {},
   "outputs": [
    {
     "name": "stdout",
     "output_type": "stream",
     "text": [
      "Accuracy: 0.9454485342737492\n",
      "Precision: 0.9155180689844339\n",
      "Recall: 0.9814025286680388\n",
      "F1 Score: 0.9473161386454748\n",
      "Cross-validation scores: [0.92535998 0.92741699 0.92007053 0.9280047  0.95562739 0.95944755\n",
      " 0.964737   0.94886865 0.96237507 0.91798942]\n",
      "Mean: 0.9409897256682772\n",
      "Standard Deviation: 0.017894250227312152\n",
      "Confusion Matrix:\n",
      " [[12386  1232]\n",
      " [  253 13351]]\n"
     ]
    }
   ],
   "source": [
    "y_pred = lr.predict(x_train)\n",
    "\n",
    "print('Accuracy:', accuracy_score(y_train, y_pred))\n",
    "\n",
    "print('Precision:', precision_score(y_train, y_pred))\n",
    "\n",
    "print('Recall:', recall_score(y_train, y_pred))\n",
    "\n",
    "print('F1 Score:', f1_score(y_train, y_pred))\n",
    "\n",
    "# Cross-validation\n",
    "from sklearn.model_selection import cross_val_score\n",
    "\n",
    "scores = cross_val_score(lr, x, y, cv=10)\n",
    "\n",
    "print('Cross-validation scores:', scores)\n",
    "\n",
    "print('Mean:', np.mean(scores))\n",
    "\n",
    "print('Standard Deviation:', np.std(scores))\n",
    "\n",
    "# Confusion matrix\n",
    "\n",
    "from sklearn.metrics import confusion_matrix\n",
    "cm = confusion_matrix(y_train, y_pred)\n",
    "\n",
    "print('Confusion Matrix:\\n', cm)"
   ]
  },
  {
   "cell_type": "code",
   "execution_count": 15,
   "id": "21c81d53",
   "metadata": {},
   "outputs": [
    {
     "name": "stdout",
     "output_type": "stream",
     "text": [
      "              precision    recall  f1-score   support\n",
      "\n",
      "         0.0       0.98      0.91      0.94     13618\n",
      "         1.0       0.92      0.98      0.95     13604\n",
      "\n",
      "    accuracy                           0.95     27222\n",
      "   macro avg       0.95      0.95      0.95     27222\n",
      "weighted avg       0.95      0.95      0.95     27222\n",
      "\n"
     ]
    }
   ],
   "source": [
    "from sklearn.metrics import classification_report\n",
    "print(classification_report(y_train,y_pred))"
   ]
  },
  {
   "cell_type": "code",
   "execution_count": 16,
   "id": "cb368d1c",
   "metadata": {},
   "outputs": [
    {
     "name": "stdout",
     "output_type": "stream",
     "text": [
      "Accuracy: 0.9447546282691742\n",
      "Precision: 0.9133514986376022\n",
      "Recall: 0.9829912023460411\n",
      "F1 Score: 0.9468926553672318\n",
      "Cross-validation scores: [0.92535998 0.92741699 0.92007053 0.9280047  0.95562739 0.95944755\n",
      " 0.964737   0.94886865 0.96237507 0.91798942]\n",
      "Mean: 0.9409897256682772\n",
      "Standard Deviation: 0.017894250227312152\n",
      "Confusion Matrix:\n",
      " [[3078  318]\n",
      " [  58 3352]]\n"
     ]
    }
   ],
   "source": [
    "y_pred = lr.predict(x_test)\n",
    "print('Accuracy:', accuracy_score(y_test, y_pred))\n",
    "print('Precision:', precision_score(y_test, y_pred))\n",
    "print('Recall:', recall_score(y_test, y_pred))\n",
    "print('F1 Score:', f1_score(y_test, y_pred))\n",
    "\n",
    "\n",
    "# Cross-validation\n",
    "\n",
    "scores = cross_val_score(lr, x, y, cv=10)\n",
    "print('Cross-validation scores:', scores)\n",
    "print('Mean:', np.mean(scores))\n",
    "print('Standard Deviation:', np.std(scores))\n",
    "\n",
    "\n",
    "# Confusion matrix\n",
    "\n",
    "cm = confusion_matrix(y_test, y_pred)\n",
    "print('Confusion Matrix:\\n', cm)"
   ]
  },
  {
   "cell_type": "code",
   "execution_count": 17,
   "id": "cdc822da",
   "metadata": {},
   "outputs": [
    {
     "name": "stdout",
     "output_type": "stream",
     "text": [
      "              precision    recall  f1-score   support\n",
      "\n",
      "         0.0       0.98      0.91      0.94      3396\n",
      "         1.0       0.91      0.98      0.95      3410\n",
      "\n",
      "    accuracy                           0.94      6806\n",
      "   macro avg       0.95      0.94      0.94      6806\n",
      "weighted avg       0.95      0.94      0.94      6806\n",
      "\n"
     ]
    }
   ],
   "source": [
    "print(classification_report(y_test,y_pred))"
   ]
  },
  {
   "cell_type": "code",
   "execution_count": 26,
   "id": "d13661af",
   "metadata": {},
   "outputs": [
    {
     "name": "stdout",
     "output_type": "stream",
     "text": [
      "Training Score is 96%:\n",
      "Test Score is 96%:\n",
      "Accuracy is 96%\n",
      "F1 score is 96%\n"
     ]
    }
   ],
   "source": [
    "from sklearn.ensemble import RandomForestClassifier\n",
    "model = RandomForestClassifier()\n",
    " \n",
    "\n",
    "model.fit(x_train, y_train)\n",
    "    \n",
    "print('Training Score is {:.0%}:'.format(model.score(x_train, y_train)))\n",
    "\n",
    "print('Test Score is {:.0%}:'.format(model.score(x_test, y_test)))  \n",
    "\n",
    "y_pred = model.predict(x_test)\n",
    "\n",
    "print(('Accuracy is {:.0%}'.format(accuracy_score(y_test, y_pred))))\n",
    "\n",
    "print('F1 score is {:.0%}'.format(f1_score(y_test, y_pred)))"
   ]
  },
  {
   "cell_type": "code",
   "execution_count": 27,
   "id": "b6e89872",
   "metadata": {},
   "outputs": [
    {
     "name": "stdout",
     "output_type": "stream",
     "text": [
      "Accuracy: 0.9595180368819337\n",
      "Precision: 0.9282680186352426\n",
      "Recall: 0.9959570714495737\n",
      "F1 Score: 0.9609219858156028\n",
      "Cross-validation scores: [0.94446077 0.93917132 0.93652659 0.95033794 0.96444314 0.9753159\n",
      " 0.97649133 0.9597414  0.97236919 0.96237507]\n",
      "Mean: 0.958123266067237\n",
      "Standard Deviation: 0.014033615252819764\n",
      "Confusion Matrix:\n",
      " [[12571  1047]\n",
      " [   55 13549]]\n",
      "              precision    recall  f1-score   support\n",
      "\n",
      "         0.0       1.00      0.92      0.96     13618\n",
      "         1.0       0.93      1.00      0.96     13604\n",
      "\n",
      "    accuracy                           0.96     27222\n",
      "   macro avg       0.96      0.96      0.96     27222\n",
      "weighted avg       0.96      0.96      0.96     27222\n",
      "\n"
     ]
    }
   ],
   "source": [
    "y_pred = model.predict(x_train)\n",
    "\n",
    "print('Accuracy:', accuracy_score(y_train, y_pred))\n",
    "\n",
    "print('Precision:', precision_score(y_train, y_pred))\n",
    "\n",
    "print('Recall:', recall_score(y_train, y_pred))\n",
    "\n",
    "print('F1 Score:', f1_score(y_train, y_pred))\n",
    "\n",
    "# Cross-validation\n",
    "\n",
    "scores = cross_val_score(model, x, y, cv=10)\n",
    "\n",
    "print('Cross-validation scores:', scores)\n",
    "\n",
    "print('Mean:', np.mean(scores))\n",
    "\n",
    "print('Standard Deviation:', np.std(scores))\n",
    "\n",
    "# Confusion matrix\n",
    "\n",
    "cm = confusion_matrix(y_train, y_pred)\n",
    "\n",
    "print('Confusion Matrix:\\n', cm)\n",
    "\n",
    "print(classification_report(y_train,y_pred))"
   ]
  },
  {
   "cell_type": "code",
   "execution_count": 28,
   "id": "2059e380",
   "metadata": {},
   "outputs": [
    {
     "name": "stdout",
     "output_type": "stream",
     "text": [
      "Accuracy: 0.9570966794005289\n",
      "Precision: 0.9245642701525054\n",
      "Recall: 0.9956011730205279\n",
      "F1 Score: 0.9587687094041231\n",
      "Cross-validation scores: [0.94416691 0.93917132 0.93652659 0.95033794 0.96503086 0.9753159\n",
      " 0.97707905 0.9597414  0.97236919 0.96296296]\n",
      "Mean: 0.958270212522996\n",
      "Standard Deviation: 0.014185832076684713\n",
      "Confusion Matrix:\n",
      " [[3119  277]\n",
      " [  15 3395]]\n"
     ]
    }
   ],
   "source": [
    "y_pred = model.predict(x_test)\n",
    "\n",
    "print('Accuracy:', accuracy_score(y_test, y_pred))\n",
    "\n",
    "print('Precision:', precision_score(y_test, y_pred))\n",
    "\n",
    "print('Recall:', recall_score(y_test, y_pred))\n",
    "\n",
    "print('F1 Score:', f1_score(y_test, y_pred))\n",
    "\n",
    "# Cross-validation\n",
    "\n",
    "scores = cross_val_score(model, x, y, cv=10)\n",
    "\n",
    "print('Cross-validation scores:', scores)\n",
    "\n",
    "print('Mean:', np.mean(scores))\n",
    "\n",
    "print('Standard Deviation:', np.std(scores))\n",
    "\n",
    "# Confusion matrix\n",
    "\n",
    "cm = confusion_matrix(y_test, y_pred)\n",
    "\n",
    "print('Confusion Matrix:\\n', cm)"
   ]
  },
  {
   "cell_type": "code",
   "execution_count": 29,
   "id": "d8c34e69",
   "metadata": {},
   "outputs": [
    {
     "name": "stdout",
     "output_type": "stream",
     "text": [
      "              precision    recall  f1-score   support\n",
      "\n",
      "         0.0       1.00      0.92      0.96      3396\n",
      "         1.0       0.92      1.00      0.96      3410\n",
      "\n",
      "    accuracy                           0.96      6806\n",
      "   macro avg       0.96      0.96      0.96      6806\n",
      "weighted avg       0.96      0.96      0.96      6806\n",
      "\n"
     ]
    }
   ],
   "source": [
    "print(classification_report(y_test,y_pred))"
   ]
  },
  {
   "cell_type": "code",
   "execution_count": null,
   "id": "d36f05d9",
   "metadata": {},
   "outputs": [],
   "source": []
  }
 ],
 "metadata": {
  "kernelspec": {
   "display_name": "Python 3 (ipykernel)",
   "language": "python",
   "name": "python3"
  },
  "language_info": {
   "codemirror_mode": {
    "name": "ipython",
    "version": 3
   },
   "file_extension": ".py",
   "mimetype": "text/x-python",
   "name": "python",
   "nbconvert_exporter": "python",
   "pygments_lexer": "ipython3",
   "version": "3.9.13"
  }
 },
 "nbformat": 4,
 "nbformat_minor": 5
}
